{
 "cells": [
  {
   "cell_type": "code",
   "execution_count": 3,
   "metadata": {},
   "outputs": [],
   "source": [
    "from matplotlib import pyplot as plt\n",
    "from parse_logs import parse_siege_logs, read_log_file\n",
    "from typing import List"
   ]
  },
  {
   "cell_type": "code",
   "execution_count": 4,
   "metadata": {},
   "outputs": [],
   "source": [
    "def plot_results(results: List, title: str):\n",
    "    c_values = [res['c'] for res in results]\n",
    "    response_times = [res['response_time'] for res in results]\n",
    "    throughputs = [res['throughput'] for res in results]\n",
    "    percent_failed_transactions = [res['failed_transactions'] * 100/(res['transactions']+res['failed_transactions']) for res in results]\n",
    "\n",
    "    fig, (ax1, ax2, ax3) = plt.subplots(1, 3, figsize=(12, 6), sharex=True)\n",
    "\n",
    "    # Plot response time on the left\n",
    "    ax1.plot(c_values, response_times, 'b-o', label='Response Time')\n",
    "    ax1.set_title('Client requests/second vs Response Time')\n",
    "    ax1.set_xlabel('Client requests/second')\n",
    "    ax1.set_ylabel('Response Time (s)')\n",
    "    ax1.legend()\n",
    "    ax1.grid()\n",
    "\n",
    "    # Plot throughput in the middle\n",
    "    ax2.plot(c_values, throughputs, 'g-o', label='Throughput')\n",
    "    ax2.set_title('Client requests/second vs Throughput')\n",
    "    ax2.set_xlabel('Client requests/second')\n",
    "    ax2.set_ylabel('Throughput (MB/s)')\n",
    "    ax2.legend()\n",
    "    ax2.grid()\n",
    "\n",
    "    # Plot throughput on the right\n",
    "    ax3.plot(c_values, percent_failed_transactions, 'r-o', label='Failed Transactions (%)')\n",
    "    ax3.set_title('Client requests/second vs Failed transactions')\n",
    "    ax3.set_xlabel('Client requests/second')\n",
    "    ax3.set_ylabel('Failed transactions (%)')\n",
    "    ax3.legend()\n",
    "    ax3.grid()\n",
    "\n",
    "    fig.suptitle(title, fontsize=16)\n",
    "    plt.tight_layout(rect=[0, 0, 1, 0.95])\n",
    "    plt.show()"
   ]
  },
  {
   "cell_type": "markdown",
   "metadata": {},
   "source": [
    "# PaaS"
   ]
  },
  {
   "cell_type": "code",
   "execution_count": 1,
   "metadata": {},
   "outputs": [
    {
     "ename": "NameError",
     "evalue": "name 'read_log_file' is not defined",
     "output_type": "error",
     "traceback": [
      "\u001b[0;31m---------------------------------------------------------------------------\u001b[0m",
      "\u001b[0;31mNameError\u001b[0m                                 Traceback (most recent call last)",
      "Cell \u001b[0;32mIn[1], line 2\u001b[0m\n\u001b[1;32m      1\u001b[0m log_file_path \u001b[38;5;241m=\u001b[39m \u001b[38;5;124m'\u001b[39m\u001b[38;5;124m./logs-paas/siege-d1-r1.log\u001b[39m\u001b[38;5;124m'\u001b[39m\n\u001b[0;32m----> 2\u001b[0m log_data \u001b[38;5;241m=\u001b[39m read_log_file(log_file_path)\n\u001b[1;32m      3\u001b[0m results \u001b[38;5;241m=\u001b[39m parse_siege_logs(log_data)\n\u001b[1;32m      4\u001b[0m plot_results(results, \u001b[38;5;124m'\u001b[39m\u001b[38;5;124mPerformance Analysis: 5-100 concurrent users, 1s delay between requests, 1 request/user\u001b[39m\u001b[38;5;124m'\u001b[39m)\n",
      "\u001b[0;31mNameError\u001b[0m: name 'read_log_file' is not defined"
     ]
    }
   ],
   "source": [
    "log_file_path = './logs-paas/siege-d1-r1.log'\n",
    "log_data = read_log_file(log_file_path)\n",
    "results = parse_siege_logs(log_data)\n",
    "plot_results(results, 'Performance Analysis: 5-100 concurrent users, 1s delay between requests, 1 request/user')"
   ]
  },
  {
   "cell_type": "code",
   "execution_count": 1,
   "metadata": {},
   "outputs": [
    {
     "ename": "NameError",
     "evalue": "name 'read_log_file' is not defined",
     "output_type": "error",
     "traceback": [
      "\u001b[0;31m---------------------------------------------------------------------------\u001b[0m",
      "\u001b[0;31mNameError\u001b[0m                                 Traceback (most recent call last)",
      "Cell \u001b[0;32mIn[1], line 2\u001b[0m\n\u001b[1;32m      1\u001b[0m log_file_path \u001b[38;5;241m=\u001b[39m \u001b[38;5;124m'\u001b[39m\u001b[38;5;124m./logs-paas/with-credit/siege-d1-r5.log\u001b[39m\u001b[38;5;124m'\u001b[39m\n\u001b[0;32m----> 2\u001b[0m log_data \u001b[38;5;241m=\u001b[39m read_log_file(log_file_path)\n\u001b[1;32m      3\u001b[0m results \u001b[38;5;241m=\u001b[39m parse_siege_logs(log_data)\n\u001b[1;32m      4\u001b[0m plot_results(results, \u001b[38;5;124m'\u001b[39m\u001b[38;5;124mPerformance Analysis: 10-400 concurrent users, 1s delay between requests, 5 request/user (CPU credit enabled)\u001b[39m\u001b[38;5;124m'\u001b[39m)\n",
      "\u001b[0;31mNameError\u001b[0m: name 'read_log_file' is not defined"
     ]
    }
   ],
   "source": [
    "log_file_path = './logs-paas/with-credit/siege-d1-r5.log'\n",
    "log_data = read_log_file(log_file_path)\n",
    "results = parse_siege_logs(log_data)\n",
    "plot_results(results, 'Performance Analysis: 10-400 concurrent users, 1s delay between requests, 5 request/user (CPU credit enabled)')"
   ]
  },
  {
   "cell_type": "markdown",
   "metadata": {},
   "source": [
    "## After scaling"
   ]
  },
  {
   "cell_type": "code",
   "execution_count": 2,
   "metadata": {},
   "outputs": [
    {
     "ename": "NameError",
     "evalue": "name 'read_log_file' is not defined",
     "output_type": "error",
     "traceback": [
      "\u001b[0;31m---------------------------------------------------------------------------\u001b[0m",
      "\u001b[0;31mNameError\u001b[0m                                 Traceback (most recent call last)",
      "Cell \u001b[0;32mIn[2], line 2\u001b[0m\n\u001b[1;32m      1\u001b[0m log_file_path \u001b[38;5;241m=\u001b[39m \u001b[38;5;124m'\u001b[39m\u001b[38;5;124m./logs-paas/with-scaling/siege-d1-r1.log\u001b[39m\u001b[38;5;124m'\u001b[39m\n\u001b[0;32m----> 2\u001b[0m log_data \u001b[38;5;241m=\u001b[39m read_log_file(log_file_path)\n\u001b[1;32m      3\u001b[0m results \u001b[38;5;241m=\u001b[39m parse_siege_logs(log_data)\n\u001b[1;32m      4\u001b[0m plot_results(results, \u001b[38;5;124m'\u001b[39m\u001b[38;5;124mPerformance Analysis: 5-100 concurrent users, 1s delay between requests, 1 request/user\u001b[39m\u001b[38;5;124m'\u001b[39m)\n",
      "\u001b[0;31mNameError\u001b[0m: name 'read_log_file' is not defined"
     ]
    }
   ],
   "source": [
    "log_file_path = './logs-paas/with-scaling/siege-d1-r1.log'\n",
    "log_data = read_log_file(log_file_path)\n",
    "results = parse_siege_logs(log_data)\n",
    "plot_results(results, 'Performance Analysis: 5-100 concurrent users, 1s delay between requests, 1 request/user')"
   ]
  },
  {
   "cell_type": "markdown",
   "metadata": {},
   "source": [
    "# IaaS"
   ]
  },
  {
   "cell_type": "code",
   "execution_count": 2,
   "metadata": {},
   "outputs": [
    {
     "ename": "NameError",
     "evalue": "name 'read_log_file' is not defined",
     "output_type": "error",
     "traceback": [
      "\u001b[0;31m---------------------------------------------------------------------------\u001b[0m",
      "\u001b[0;31mNameError\u001b[0m                                 Traceback (most recent call last)",
      "Cell \u001b[0;32mIn[2], line 2\u001b[0m\n\u001b[1;32m      1\u001b[0m log_file_path \u001b[38;5;241m=\u001b[39m \u001b[38;5;124m'\u001b[39m\u001b[38;5;124m./logs-iaas/siege-d1-r1.log\u001b[39m\u001b[38;5;124m'\u001b[39m\n\u001b[0;32m----> 2\u001b[0m log_data \u001b[38;5;241m=\u001b[39m read_log_file(log_file_path)\n\u001b[1;32m      3\u001b[0m results \u001b[38;5;241m=\u001b[39m parse_siege_logs(log_data)\n\u001b[1;32m      4\u001b[0m plot_results(results, \u001b[38;5;124m'\u001b[39m\u001b[38;5;124mPerformance Analysis: 5-100 concurrent users, 1s delay between requests, 1 request/user\u001b[39m\u001b[38;5;124m'\u001b[39m)\n",
      "\u001b[0;31mNameError\u001b[0m: name 'read_log_file' is not defined"
     ]
    }
   ],
   "source": [
    "log_file_path = './logs-iaas/siege-d1-r1.log'\n",
    "log_data = read_log_file(log_file_path)\n",
    "results = parse_siege_logs(log_data)\n",
    "plot_results(results, 'Performance Analysis: 5-100 concurrent users, 1s delay between requests, 1 request/user')"
   ]
  },
  {
   "cell_type": "markdown",
   "metadata": {},
   "source": [
    "## After Scaling"
   ]
  },
  {
   "cell_type": "code",
   "execution_count": 3,
   "metadata": {},
   "outputs": [
    {
     "ename": "NameError",
     "evalue": "name 'read_log_file' is not defined",
     "output_type": "error",
     "traceback": [
      "\u001b[0;31m---------------------------------------------------------------------------\u001b[0m",
      "\u001b[0;31mNameError\u001b[0m                                 Traceback (most recent call last)",
      "Cell \u001b[0;32mIn[3], line 2\u001b[0m\n\u001b[1;32m      1\u001b[0m log_file_path \u001b[38;5;241m=\u001b[39m \u001b[38;5;124m'\u001b[39m\u001b[38;5;124m./logs-iaas/with-scaling/siege-d1-r1.log\u001b[39m\u001b[38;5;124m'\u001b[39m\n\u001b[0;32m----> 2\u001b[0m log_data \u001b[38;5;241m=\u001b[39m read_log_file(log_file_path)\n\u001b[1;32m      3\u001b[0m results \u001b[38;5;241m=\u001b[39m parse_siege_logs(log_data)\n\u001b[1;32m      4\u001b[0m plot_results(results, \u001b[38;5;124m'\u001b[39m\u001b[38;5;124mPerformance Analysis: 5-200 concurrent users, 1s delay between requests, 1 request/user\u001b[39m\u001b[38;5;124m'\u001b[39m)\n",
      "\u001b[0;31mNameError\u001b[0m: name 'read_log_file' is not defined"
     ]
    }
   ],
   "source": [
    "log_file_path = './logs-iaas/with-scaling/siege-d1-r1.log'\n",
    "log_data = read_log_file(log_file_path)\n",
    "results = parse_siege_logs(log_data)\n",
    "plot_results(results, 'Performance Analysis: 5-200 concurrent users, 1s delay between requests, 1 request/user')"
   ]
  },
  {
   "cell_type": "code",
   "execution_count": 4,
   "metadata": {},
   "outputs": [
    {
     "ename": "NameError",
     "evalue": "name 'read_log_file' is not defined",
     "output_type": "error",
     "traceback": [
      "\u001b[0;31m---------------------------------------------------------------------------\u001b[0m",
      "\u001b[0;31mNameError\u001b[0m                                 Traceback (most recent call last)",
      "Cell \u001b[0;32mIn[4], line 2\u001b[0m\n\u001b[1;32m      1\u001b[0m log_file_path \u001b[38;5;241m=\u001b[39m \u001b[38;5;124m'\u001b[39m\u001b[38;5;124m./logs-iaas/with-scaling/siege-c100-d1-r1.log\u001b[39m\u001b[38;5;124m'\u001b[39m\n\u001b[0;32m----> 2\u001b[0m log_data \u001b[38;5;241m=\u001b[39m read_log_file(log_file_path)\n\u001b[1;32m      3\u001b[0m results \u001b[38;5;241m=\u001b[39m parse_siege_logs(log_data)\n\u001b[1;32m      4\u001b[0m \u001b[38;5;66;03m# plot_results(results, 'Performance Analysis: 5-200 concurrent users, 1s delay between requests, 1 request/user')\u001b[39;00m\n\u001b[1;32m      5\u001b[0m \n\u001b[1;32m      6\u001b[0m \u001b[38;5;66;03m# c_values = [res['timestamp'] for res in results]\u001b[39;00m\n",
      "\u001b[0;31mNameError\u001b[0m: name 'read_log_file' is not defined"
     ]
    }
   ],
   "source": [
    "log_file_path = './logs-iaas/with-scaling/siege-c100-d1-r1.log'\n",
    "log_data = read_log_file(log_file_path)\n",
    "results = parse_siege_logs(log_data)\n",
    "# plot_results(results, 'Performance Analysis: 5-200 concurrent users, 1s delay between requests, 1 request/user')\n",
    "\n",
    "# c_values = [res['timestamp'] for res in results]\n",
    "c_values = [i for i in range(1, len(results)+1)]\n",
    "response_times = [res['response_time'] for res in results]\n",
    "throughputs = [res['throughput'] for res in results]\n",
    "percent_failed_transactions = [res['failed_transactions'] * 100/(res['transactions']+res['failed_transactions']) for res in results]\n",
    "\n",
    "fig, (ax1, ax2, ax3) = plt.subplots(1, 3, figsize=(12, 6), sharex=True)\n",
    "\n",
    "# Plot response time on the left\n",
    "ax1.plot(c_values, response_times, 'b-o', label='Response Time')\n",
    "ax1.set_title('Iteration vs Response Time')\n",
    "ax1.set_xlabel('Iteration')\n",
    "ax1.set_ylabel('Response Time (s)')\n",
    "ax1.legend()\n",
    "ax1.grid()\n",
    "\n",
    "# Plot throughput in the middle\n",
    "ax2.plot(c_values, throughputs, 'g-o', label='Throughput')\n",
    "ax2.set_title('Iteration vs Throughput')\n",
    "ax2.set_xlabel('Iteration')\n",
    "ax2.set_ylabel('Throughput (MB/s)')\n",
    "ax2.legend()\n",
    "ax2.grid()\n",
    "\n",
    "# Plot throughput on the right\n",
    "ax3.plot(c_values, percent_failed_transactions, 'r-o', label='Failed Transactions (%)')\n",
    "ax3.set_title('Iteration vs Failed transactions')\n",
    "ax3.set_xlabel('Iteration')\n",
    "ax3.set_ylabel('Failed transactions (%)')\n",
    "ax3.legend()\n",
    "ax3.grid()\n",
    "\n",
    "fig.suptitle(\"Fault tolerance Analysis: 100 concurrent users, 1s delay between requests, 1 request/user\", fontsize=16)\n",
    "plt.tight_layout(rect=[0, 0, 1, 0.95])\n",
    "plt.show()"
   ]
  },
  {
   "cell_type": "code",
   "execution_count": null,
   "metadata": {},
   "outputs": [],
   "source": []
  }
 ],
 "metadata": {
  "kernelspec": {
   "display_name": "base",
   "language": "python",
   "name": "python3"
  },
  "language_info": {
   "codemirror_mode": {
    "name": "ipython",
    "version": 3
   },
   "file_extension": ".py",
   "mimetype": "text/x-python",
   "name": "python",
   "nbconvert_exporter": "python",
   "pygments_lexer": "ipython3",
   "version": "3.12.7"
  }
 },
 "nbformat": 4,
 "nbformat_minor": 2
}
