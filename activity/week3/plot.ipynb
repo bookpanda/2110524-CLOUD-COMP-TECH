{
 "cells": [
  {
   "cell_type": "code",
   "execution_count": 1,
   "metadata": {},
   "outputs": [],
   "source": [
    "from matplotlib import pyplot as plt"
   ]
  },
  {
   "cell_type": "code",
   "execution_count": null,
   "metadata": {},
   "outputs": [],
   "source": [
    "siege_results = [\n",
    "    {\n",
    "        \"c\": 10,\n",
    "        \"d\": 1,\n",
    "        \"r\": 5,\n",
    "        \"response_time_ms\": 169.60,\n",
    "        \"throughput_mb_s\": 0.05,\n",
    "        \"successful_transactions\": 150,\n",
    "        \"failed_transactions\": 0\n",
    "    },\n",
    "    {\n",
    "        \"c\": 20,\n",
    "        \"d\": 1,\n",
    "        \"r\": 5,\n",
    "        \"response_time_ms\": 490.17,\n",
    "        \"throughput_mb_s\": 0.05,\n",
    "        \"successful_transactions\": 300,\n",
    "        \"failed_transactions\": 0\n",
    "    },\n",
    "    {\n",
    "        \"c\": 30,\n",
    "        \"d\": 1,\n",
    "        \"r\": 5,\n",
    "        \"response_time_ms\": 804.78,\n",
    "        \"throughput_mb_s\": 0.06,\n",
    "        \"successful_transactions\": 450,\n",
    "        \"failed_transactions\": 0\n",
    "    },\n",
    "    {\n",
    "        \"c\": 40,\n",
    "        \"d\": 1,\n",
    "        \"r\": 5,\n",
    "        \"response_time_ms\": 1208.93,\n",
    "        \"throughput_mb_s\": 0.06,\n",
    "        \"successful_transactions\": 600,\n",
    "        \"failed_transactions\": 0\n",
    "    },\n",
    "    {\n",
    "        \"c\": 50,\n",
    "        \"d\": 1,\n",
    "        \"r\": 5,\n",
    "        \"response_time_ms\": 1500.91,\n",
    "        \"throughput_mb_s\": 0.06,\n",
    "        \"successful_transactions\": 750,\n",
    "        \"failed_transactions\": 0\n",
    "    }\n",
    "]"
   ]
  },
  {
   "cell_type": "code",
   "execution_count": null,
   "metadata": {},
   "outputs": [],
   "source": [
    "# plot response time\n"
   ]
  }
 ],
 "metadata": {
  "kernelspec": {
   "display_name": "base",
   "language": "python",
   "name": "python3"
  },
  "language_info": {
   "codemirror_mode": {
    "name": "ipython",
    "version": 3
   },
   "file_extension": ".py",
   "mimetype": "text/x-python",
   "name": "python",
   "nbconvert_exporter": "python",
   "pygments_lexer": "ipython3",
   "version": "3.12.7"
  }
 },
 "nbformat": 4,
 "nbformat_minor": 2
}
