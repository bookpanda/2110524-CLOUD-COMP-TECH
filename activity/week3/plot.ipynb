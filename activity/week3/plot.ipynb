{
 "cells": [
  {
   "cell_type": "code",
   "execution_count": 4,
   "metadata": {},
   "outputs": [],
   "source": [
    "from matplotlib import pyplot as plt\n",
    "from parse_logs import parse_siege_logs, read_log_file"
   ]
  },
  {
   "cell_type": "code",
   "execution_count": 11,
   "metadata": {},
   "outputs": [],
   "source": [
    "log_file_path = './logs-paas/siege-r5.log'\n",
    "log_data = read_log_file(log_file_path)\n",
    "results_r1 = parse_siege_logs(log_data)"
   ]
  },
  {
   "cell_type": "code",
   "execution_count": 15,
   "metadata": {},
   "outputs": [],
   "source": [
    "log_file_path = './logs-paas/siege-r5.log'\n",
    "log_data = read_log_file(log_file_path)\n",
    "results_r5 = parse_siege_logs(log_data)"
   ]
  },
  {
   "cell_type": "code",
   "execution_count": 17,
   "metadata": {},
   "outputs": [
    {
     "data": {
      "text/plain": [
       "{'timestamp': '2025-01-24 14:06:22',\n",
       " 'c': 360,\n",
       " 'd': 1,\n",
       " 'r': 5,\n",
       " 'transactions': 3825,\n",
       " 'elapsed_time': 135.21,\n",
       " 'data_transferred': 7.0,\n",
       " 'response_time': 8.04,\n",
       " 'transaction_rate': 28.29,\n",
       " 'throughput': 0.05,\n",
       " 'concurrency': 227.51,\n",
       " 'successful_transactions': 3825,\n",
       " 'failed_transactions': 0}"
      ]
     },
     "execution_count": 17,
     "metadata": {},
     "output_type": "execute_result"
    }
   ],
   "source": [
    "results_r5[-1]"
   ]
  },
  {
   "cell_type": "code",
   "execution_count": 16,
   "metadata": {},
   "outputs": [
    {
     "data": {
      "image/png": "[encoded data removed]",
      "text/plain": [
       "<Figure size 640x480 with 1 Axes>"
      ]
     },
     "metadata": {},
     "output_type": "display_data"
    }
   ],
   "source": [
    "# plot results' response time, throughput against c\n",
    "for res in results_r5:\n",
    "    plt.plot(res['c'], res['response_time'], 'ro')\n",
    "    # plt.plot(res['c'], res['transaction_rate'], 'bo')\n",
    "    plt.plot(res['c'], res['throughput'], 'go')\n",
    "\n",
    "\n",
    "# plt.plot(results['time'], results['response_time'], label='response time')"
   ]
  },
  {
   "cell_type": "code",
   "execution_count": null,
   "metadata": {},
   "outputs": [],
   "source": [
    "# Transactions:                3000    hits\n",
    "# Availability:                 100.00 %\n",
    "# Elapsed time:                  88.01 secs\n",
    "# Data transferred:               6.15 MB\n",
    "# Response time:               5223.67 ms\n",
    "# Transaction rate:              34.09 trans/sec\n",
    "# Throughput:                     0.07 MB/sec\n",
    "# Concurrency:                  178.06\n",
    "# Successful transactions:     3000\n",
    "# Failed transactions:            0\n",
    "# Longest transaction:        19260.00 ms\n",
    "# Shortest transaction:           0.00 ms\n",
    "#\n",
    "# 2025-01-24 12:50:16,   \n",
    "# 3000,      \n",
    "# 88.01,           \n",
    "# data transferred 6,       \n",
    "# response time (s) 5.22,\n",
    "# trans rate       34.09,        \n",
    "# throughput 0.07,      \n",
    "# concurrency 178.06,    \n",
    "# success 3000,       \n",
    "# failed 0"
   ]
  },
  {
   "cell_type": "code",
   "execution_count": null,
   "metadata": {},
   "outputs": [],
   "source": []
  },
  {
   "cell_type": "code",
   "execution_count": null,
   "metadata": {},
   "outputs": [],
   "source": [
    "# plot response time\n"
   ]
  }
 ],
 "metadata": {
  "kernelspec": {
   "display_name": "base",
   "language": "python",
   "name": "python3"
  },
  "language_info": {
   "codemirror_mode": {
    "name": "ipython",
    "version": 3
   },
   "file_extension": ".py",
   "mimetype": "text/x-python",
   "name": "python",
   "nbconvert_exporter": "python",
   "pygments_lexer": "ipython3",
   "version": "3.12.7"
  }
 },
 "nbformat": 4,
 "nbformat_minor": 2
}
